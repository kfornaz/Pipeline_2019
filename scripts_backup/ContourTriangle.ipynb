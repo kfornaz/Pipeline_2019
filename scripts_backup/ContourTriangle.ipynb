{
 "cells": [
  {
   "cell_type": "code",
   "execution_count": 24,
   "metadata": {},
   "outputs": [
    {
     "name": "stdout",
     "output_type": "stream",
     "text": [
      "[ 0.  1.  2.  0.  3.  1.  4.  2.  0.  5.  3.  1.  6.  4.  2.  0.  7.  5.\n",
      "  3.  1.  8.  6.  4.  2.  0.  9.  7.  5.  3.  1. 10.  8.  6.  4.  2.  0.\n",
      " 11.  9.  7.  5.  3.  1. 12. 10.  8.  6.  4.  2.  0. 13. 11.  9.  7.  5.\n",
      "  3.  1. 14. 12. 10.  8.  6.  4.  2.  0. 15. 13. 11.  9.  7.  5.  3.  1.\n",
      " 12. 10.  8.  6.  4.  2.  0.  9.  7.  5.  3.  1.  6.  4.  2.  0.  3.  1.\n",
      "  0.]\n",
      "[  0.  -1.  -2.   0.  -3.  -1.  -4.  -2.   0.  -5.  -3.  -1.  -6.  -4.\n",
      "  -2.   0.  -7.  -5.  -3.  -1.  -8.  -6.  -4.  -2.   0.  -9.  -7.  -5.\n",
      "  -3.  -1. -10.  -8.  -6.  -4.  -2.   0. -11.  -9.  -7.  -5.  -3.  -1.\n",
      " -12. -10.  -8.  -6.  -4.  -2.   0. -13. -11.  -9.  -7.  -5.  -3.  -1.\n",
      " -14. -12. -10.  -8.  -6.  -4.  -2.   0. -15. -13. -11.  -9.  -7.  -5.\n",
      "  -3.  -1. -12. -10.  -8.  -6.  -4.  -2.   0.  -9.  -7.  -5.  -3.  -1.\n",
      "  -6.  -4.  -2.   0.  -3.  -1.   0.]\n"
     ]
    }
   ],
   "source": [
    "import numpy as np\n",
    "\n",
    "#matrixf=open(\"B_ellTotal1234.txt\")#open file \n",
    "#matrixfbase=matrixf.readlines()#reads file line by line\n",
    "#matrix_Bell=np.array([i.split(\",\")[0] for i in (matrixfbase)])#extract bells\n",
    "#matrix_ell1=np.array([i.split(\",\")[1] for i in (matrixfbase)])#extracts ell1\n",
    "#matrix_ell2=np.array([i.split(\",\")[2] for i in (matrixfbase)])#extracts ell2\n",
    "#matrix_ell3=np.array([i.split(\",\")[3] for i in (matrixfbase)])#extracts ell3\n",
    "#matrix_ell23=np.array([abs(float(i.split(\",\")[2])-float(i.split(\",\")[3])) for i in (matrixfbase)]) #subtracts l2-l3\n",
    "\n",
    "matrixf = np.loadtxt(\"B_ellTotal1234.txt\", delimiter=',')\n",
    "matrix_Bell = matrixf[:,0]\n",
    "matrix_ell1 = matrixf[:,1]\n",
    "matrix_ell23 = matrixf[:,3]-matrixf[:,2]\n",
    "matrix_ell23mirror = matrixf[:,2] - matrixf[:,3]\n",
    "print matrix_ell23\n",
    "print matrix_ell23mirror"
   ]
  },
  {
   "cell_type": "code",
   "execution_count": 25,
   "metadata": {},
   "outputs": [
    {
     "name": "stdout",
     "output_type": "stream",
     "text": [
      "[ 0  1  2  3  4  5  6  7  8  9 10 11 12 13 14 15 16 17 18 19 20]\n",
      "[ 0.  1.  2.  2.  3.  3.  4.  4.  4.  5.  5.  5.  6.  6.  6.  6.  7.  7.\n",
      "  7.  7.  8.  8.  8.  8.  8.  9.  9.  9.  9.  9. 10. 10. 10. 10. 10. 10.\n",
      " 11. 11. 11. 11. 11. 11. 12. 12. 12. 12. 12. 12. 12. 13. 13. 13. 13. 13.\n",
      " 13. 13. 14. 14. 14. 14. 14. 14. 14. 14. 15. 15. 15. 15. 15. 15. 15. 15.\n",
      " 16. 16. 16. 16. 16. 16. 16. 17. 17. 17. 17. 17. 18. 18. 18. 18. 19. 19.\n",
      " 20.]\n"
     ]
    }
   ],
   "source": [
    "Y = matrix_ell1#matrix_ell1#set the x dimension form matrix shape \n",
    "#print Y \n",
    "#print max(Y), min(Y)\n",
    "a = Y.max()\n",
    "b = np.min(Y)\n",
    "#print a,b\n",
    "Yarr = np.arange(int(b),int(a)+1)\n",
    "print Yarr\n",
    "print Y"
   ]
  },
  {
   "cell_type": "code",
   "execution_count": 26,
   "metadata": {
    "scrolled": true
   },
   "outputs": [
    {
     "name": "stdout",
     "output_type": "stream",
     "text": [
      "15.0 0.0\n",
      "[ 0  1  2  3  4  5  6  7  8  9 10 11 12 13 14 15]\n",
      "[ 0.  1.  2.  0.  3.  1.  4.  2.  0.  5.  3.  1.  6.  4.  2.  0.  7.  5.\n",
      "  3.  1.  8.  6.  4.  2.  0.  9.  7.  5.  3.  1. 10.  8.  6.  4.  2.  0.\n",
      " 11.  9.  7.  5.  3.  1. 12. 10.  8.  6.  4.  2.  0. 13. 11.  9.  7.  5.\n",
      "  3.  1. 14. 12. 10.  8.  6.  4.  2.  0. 15. 13. 11.  9.  7.  5.  3.  1.\n",
      " 12. 10.  8.  6.  4.  2.  0.  9.  7.  5.  3.  1.  6.  4.  2.  0.  3.  1.\n",
      "  0.]\n"
     ]
    }
   ],
   "source": [
    "X = matrix_ell23#matrix_ell1#set the x dimension form matrix shape \n",
    "#Xa = matrix_ell23mirror\n",
    "#print Y \n",
    "print max(X), min(X)\n",
    "a = X.max()\n",
    "b = np.min(X)\n",
    "#print a,b\n",
    "Xarr = np.arange(int(b), int(a)+1)\n",
    "print Xarr\n",
    "print X"
   ]
  },
  {
   "cell_type": "code",
   "execution_count": 27,
   "metadata": {
    "scrolled": true
   },
   "outputs": [
    {
     "name": "stdout",
     "output_type": "stream",
     "text": [
      "16\n",
      "21\n",
      "[[0. 0. 0. 0. 0. 0. 0. 0. 0. 0. 0. 0. 0. 0. 0. 0. 0. 0. 0. 0. 0.]\n",
      " [0. 0. 0. 0. 0. 0. 0. 0. 0. 0. 0. 0. 0. 0. 0. 0. 0. 0. 0. 0. 0.]\n",
      " [0. 0. 0. 0. 0. 0. 0. 0. 0. 0. 0. 0. 0. 0. 0. 0. 0. 0. 0. 0. 0.]\n",
      " [0. 0. 0. 0. 0. 0. 0. 0. 0. 0. 0. 0. 0. 0. 0. 0. 0. 0. 0. 0. 0.]\n",
      " [0. 0. 0. 0. 0. 0. 0. 0. 0. 0. 0. 0. 0. 0. 0. 0. 0. 0. 0. 0. 0.]\n",
      " [0. 0. 0. 0. 0. 0. 0. 0. 0. 0. 0. 0. 0. 0. 0. 0. 0. 0. 0. 0. 0.]\n",
      " [0. 0. 0. 0. 0. 0. 0. 0. 0. 0. 0. 0. 0. 0. 0. 0. 0. 0. 0. 0. 0.]\n",
      " [0. 0. 0. 0. 0. 0. 0. 0. 0. 0. 0. 0. 0. 0. 0. 0. 0. 0. 0. 0. 0.]\n",
      " [0. 0. 0. 0. 0. 0. 0. 0. 0. 0. 0. 0. 0. 0. 0. 0. 0. 0. 0. 0. 0.]\n",
      " [0. 0. 0. 0. 0. 0. 0. 0. 0. 0. 0. 0. 0. 0. 0. 0. 0. 0. 0. 0. 0.]\n",
      " [0. 0. 0. 0. 0. 0. 0. 0. 0. 0. 0. 0. 0. 0. 0. 0. 0. 0. 0. 0. 0.]\n",
      " [0. 0. 0. 0. 0. 0. 0. 0. 0. 0. 0. 0. 0. 0. 0. 0. 0. 0. 0. 0. 0.]\n",
      " [0. 0. 0. 0. 0. 0. 0. 0. 0. 0. 0. 0. 0. 0. 0. 0. 0. 0. 0. 0. 0.]\n",
      " [0. 0. 0. 0. 0. 0. 0. 0. 0. 0. 0. 0. 0. 0. 0. 0. 0. 0. 0. 0. 0.]\n",
      " [0. 0. 0. 0. 0. 0. 0. 0. 0. 0. 0. 0. 0. 0. 0. 0. 0. 0. 0. 0. 0.]\n",
      " [0. 0. 0. 0. 0. 0. 0. 0. 0. 0. 0. 0. 0. 0. 0. 0. 0. 0. 0. 0. 0.]]\n"
     ]
    }
   ],
   "source": [
    "sizex = Xarr.size\n",
    "print sizex\n",
    "print Yarr.size\n",
    "Bellmatrix = np.zeros((Xarr.size,Yarr.size))\n",
    "print Bellmatrix"
   ]
  },
  {
   "cell_type": "code",
   "execution_count": 28,
   "metadata": {
    "scrolled": true
   },
   "outputs": [
    {
     "ename": "NameError",
     "evalue": "name 'matrix_Bellt' is not defined",
     "output_type": "error",
     "traceback": [
      "\u001b[0;31m---------------------------------------------------------------------------\u001b[0m",
      "\u001b[0;31mNameError\u001b[0m                                 Traceback (most recent call last)",
      "\u001b[0;32m<ipython-input-28-9e23f5d1aafb>\u001b[0m in \u001b[0;36m<module>\u001b[0;34m()\u001b[0m\n\u001b[1;32m      1\u001b[0m \u001b[0;32mfor\u001b[0m \u001b[0mi\u001b[0m \u001b[0;32min\u001b[0m \u001b[0mnp\u001b[0m\u001b[0;34m.\u001b[0m\u001b[0marange\u001b[0m\u001b[0;34m(\u001b[0m\u001b[0mmatrix_Bell\u001b[0m\u001b[0;34m.\u001b[0m\u001b[0msize\u001b[0m\u001b[0;34m)\u001b[0m\u001b[0;34m:\u001b[0m\u001b[0;34m\u001b[0m\u001b[0m\n\u001b[1;32m      2\u001b[0m     \u001b[0;31m#print int(matrix_ell23[i]),int(matrix_ell1[i])\u001b[0m\u001b[0;34m\u001b[0m\u001b[0;34m\u001b[0m\u001b[0m\n\u001b[0;32m----> 3\u001b[0;31m     \u001b[0mBellmatrix\u001b[0m\u001b[0;34m[\u001b[0m\u001b[0mint\u001b[0m\u001b[0;34m(\u001b[0m\u001b[0mmatrix_ell23t\u001b[0m\u001b[0;34m[\u001b[0m\u001b[0mi\u001b[0m\u001b[0;34m]\u001b[0m\u001b[0;34m)\u001b[0m\u001b[0;34m,\u001b[0m\u001b[0mint\u001b[0m\u001b[0;34m(\u001b[0m\u001b[0mmatrix_ell1t\u001b[0m\u001b[0;34m[\u001b[0m\u001b[0mi\u001b[0m\u001b[0;34m]\u001b[0m\u001b[0;34m)\u001b[0m\u001b[0;34m]\u001b[0m\u001b[0;34m=\u001b[0m\u001b[0mmatrix_Bellt\u001b[0m\u001b[0;34m[\u001b[0m\u001b[0mi\u001b[0m\u001b[0;34m]\u001b[0m\u001b[0;34m\u001b[0m\u001b[0m\n\u001b[0m\u001b[1;32m      4\u001b[0m     \u001b[0;31m#Bellmatrix[]\u001b[0m\u001b[0;34m\u001b[0m\u001b[0;34m\u001b[0m\u001b[0m\n\u001b[1;32m      5\u001b[0m \u001b[0;31m#print Bellmatrix\u001b[0m\u001b[0;34m\u001b[0m\u001b[0;34m\u001b[0m\u001b[0m\n",
      "\u001b[0;31mNameError\u001b[0m: name 'matrix_Bellt' is not defined"
     ]
    }
   ],
   "source": [
    "for i in np.arange(matrix_Bell.size):    \n",
    "    #print int(matrix_ell23[i]),int(matrix_ell1[i])\n",
    "    Bellmatrix[int(matrix_ell23t[i]),int(matrix_ell1t[i])]=matrix_Bellt[i]\n",
    "    #Bellmatrix[]\n",
    "#print Bellmatrix"
   ]
  },
  {
   "cell_type": "code",
   "execution_count": null,
   "metadata": {},
   "outputs": [],
   "source": [
    "import matplotlib.pyplot as plt\n",
    "cp = plt.contourf(Yarr, Xarr, Bellmatrix.T)\n",
    "print Yarr.size, Bellmatrix[0,:].size\n",
    "#plt.colormap()\n",
    "plt.colorbar(cp)\n",
    "plt.show()"
   ]
  },
  {
   "cell_type": "code",
   "execution_count": null,
   "metadata": {},
   "outputs": [],
   "source": [
    "   \n",
    "   \n"
   ]
  }
 ],
 "metadata": {
  "kernelspec": {
   "display_name": "Python 2",
   "language": "python",
   "name": "python2"
  },
  "language_info": {
   "codemirror_mode": {
    "name": "ipython",
    "version": 2
   },
   "file_extension": ".py",
   "mimetype": "text/x-python",
   "name": "python",
   "nbconvert_exporter": "python",
   "pygments_lexer": "ipython2",
   "version": "2.7.15"
  }
 },
 "nbformat": 4,
 "nbformat_minor": 2
}
