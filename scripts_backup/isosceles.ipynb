{
 "cells": [
  {
   "cell_type": "code",
   "execution_count": 40,
   "metadata": {},
   "outputs": [],
   "source": [
    "from mpl_toolkits.mplot3d import Axes3D\n",
    "from matplotlib import cm\n",
    "from matplotlib.ticker import LinearLocator\n",
    "import numpy as np\n",
    "from scipy.integrate import quad\n",
    "from scipy.interpolate import interp1d\n",
    "from scipy.stats import norm\n",
    "import matplotlib\n",
    "import numpy as np\n",
    "import healpy as hp\n",
    "import matplotlib.pyplot as plt\n",
    "import matplotlib.cm as cm\n",
    "import matplotlib.mlab as mlab\n",
    "from astropy.io import fits\n",
    "from math import pi, sin, cos, sqrt, log, floor\n",
    "from sympy.physics.wigner import gaunt\n",
    "import sys"
   ]
  },
  {
   "cell_type": "code",
   "execution_count": 41,
   "metadata": {},
   "outputs": [],
   "source": [
    "#load file and matrix - usou loadtxt para evitar problemas com int ou qq outra coisa nos numeros\n",
    "\n",
    "matrixf = np.loadtxt(\"B_ellTotalForegrounds18.txt\", delimiter=',')"
   ]
  },
  {
   "cell_type": "code",
   "execution_count": 42,
   "metadata": {},
   "outputs": [
    {
     "name": "stdout",
     "output_type": "stream",
     "text": [
      "[ 130.99693414   -1.88034937   47.04144101 -830.69554529   16.54696377\n",
      "  -27.17018242   35.72812028 -580.29729322   18.02871117   21.17161359\n",
      "  -20.94724514   -7.16131178   30.56840132 -531.79362255   10.77271563\n",
      " -379.18131333   25.50959165  -18.79749979    1.7673218   -13.90391358\n",
      " -520.01497533    7.17900916 -365.13651063    3.04681834  -15.12507244\n",
      "   -3.17216636 -360.210846    130.99693414   -1.88034937   47.04144101\n",
      " -830.69554529   16.54696377  -27.17018242   35.72812028 -580.29729322\n",
      "   18.02871117   21.17161359  -20.94724514   -7.16131178   30.56840132\n",
      " -531.79362255   10.77271563 -379.18131333   25.50959165  -18.79749979\n",
      "    1.7673218   -13.90391358 -520.01497533    7.17900916 -365.13651063\n",
      "    3.04681834  -15.12507244   -3.17216636 -360.210846  ]\n"
     ]
    }
   ],
   "source": [
    "#carregou a matriz com os valores de Bell\n",
    "matrix_Bell = matrixf[:,0] \n",
    "matrix_Bella = matrixf[:,0]\n",
    "matrix_Bellt=np.concatenate((matrix_Bell, matrix_Bella), axis=0)\n",
    "matrix_Bellt=matrix_Bellt.T #gambi que fiz... nao tem razao logica...\n",
    "print matrix_Bellt"
   ]
  },
  {
   "cell_type": "code",
   "execution_count": 43,
   "metadata": {},
   "outputs": [
    {
     "name": "stdout",
     "output_type": "stream",
     "text": [
      "[15. 15. 15. 14. 15. 14. 15. 14. 13. 15. 14. 13. 15. 14. 13. 12. 15. 14.\n",
      " 13. 12. 14. 13. 12. 11. 12. 11. 10. 15. 15. 15. 14. 15. 14. 15. 14. 13.\n",
      " 15. 14. 13. 15. 14. 13. 12. 15. 14. 13. 12. 14. 13. 12. 11. 12. 11. 10.]\n"
     ]
    }
   ],
   "source": [
    "#carregou a matriz com os valores de l3\n",
    "matrix_ell3 = matrixf[:,3]\n",
    "matrix_ell3a = matrixf[:,3]\n",
    "matrix_ell3t=np.concatenate((matrix_ell3, matrix_ell3a), axis=0)\n",
    "print matrix_ell3t"
   ]
  },
  {
   "cell_type": "code",
   "execution_count": 44,
   "metadata": {},
   "outputs": [
    {
     "name": "stdout",
     "output_type": "stream",
     "text": [
      "[15. 14. 13. 14. 12. 13. 11. 12. 13. 10. 11. 12.  9. 10. 11. 12.  8.  9.\n",
      " 10. 11.  8.  9. 10. 11.  9. 10. 10. 15. 14. 13. 14. 12. 13. 11. 12. 13.\n",
      " 10. 11. 12.  9. 10. 11. 12.  8.  9. 10. 11.  8.  9. 10. 11.  9. 10. 10.]\n"
     ]
    }
   ],
   "source": [
    "#carregou a matriz com os valores de l2, l3 aqui precisa de correcao pois os valores são espelhados\n",
    "matrix_ell21 =  matrixf[:,2]\n",
    "matrix_ell21a = matrixf[:,2]\n",
    "matrix_ell21t=np.concatenate((matrix_ell21, matrix_ell21a), axis=0)\n",
    "print matrix_ell21t"
   ]
  },
  {
   "cell_type": "code",
   "execution_count": 45,
   "metadata": {},
   "outputs": [
    {
     "name": "stdout",
     "output_type": "stream",
     "text": [
      "15.0\n",
      "14.0\n",
      "13.0\n",
      "14.0\n",
      "12.0\n",
      "13.0\n",
      "11.0\n",
      "12.0\n",
      "13.0\n",
      "10.0\n",
      "11.0\n",
      "12.0\n",
      "9.0\n",
      "10.0\n",
      "11.0\n",
      "12.0\n",
      "8.0\n",
      "9.0\n",
      "10.0\n",
      "11.0\n",
      "8.0\n",
      "9.0\n",
      "10.0\n",
      "11.0\n",
      "9.0\n",
      "10.0\n",
      "10.0\n",
      "[15. 14. 13. 14. 12. 13. 11. 12. 13. 10. 11. 12.  9. 10. 11. 12.  8.  9.\n",
      " 10. 11.  8.  9. 10. 11.  9. 10. 10.]\n"
     ]
    }
   ],
   "source": [
    "len1=len(matrix_ell21)\n",
    "matrixeq=np.zeros(len1)\n",
    "for i in range (len1):\n",
    "\n",
    "   if matrix_ell21[i]== matrix_ell21a[i]:\n",
    "       matrixeq[i]= matrix_ell21a[i]\n",
    "       print matrixeq[i]\n",
    "print matrixeq"
   ]
  },
  {
   "cell_type": "code",
   "execution_count": 46,
   "metadata": {},
   "outputs": [
    {
     "ename": "IndexError",
     "evalue": "index 15 is out of bounds for axis 0 with size 8",
     "output_type": "error",
     "traceback": [
      "\u001b[0;31m---------------------------------------------------------------------------\u001b[0m",
      "\u001b[0;31mIndexError\u001b[0m                                Traceback (most recent call last)",
      "\u001b[0;32m<ipython-input-46-a4c4aa4aaeca>\u001b[0m in \u001b[0;36m<module>\u001b[0;34m()\u001b[0m\n\u001b[1;32m     28\u001b[0m \u001b[0;32mfor\u001b[0m \u001b[0mi\u001b[0m \u001b[0;32min\u001b[0m \u001b[0mnp\u001b[0m\u001b[0;34m.\u001b[0m\u001b[0marange\u001b[0m\u001b[0;34m(\u001b[0m\u001b[0mmatrix_Bellt\u001b[0m\u001b[0;34m.\u001b[0m\u001b[0msize\u001b[0m\u001b[0;34m)\u001b[0m\u001b[0;34m:\u001b[0m\u001b[0;34m\u001b[0m\u001b[0m\n\u001b[1;32m     29\u001b[0m     \u001b[0;31m#print int(matrix_ell23[i]),int(matrix_ell1[i])\u001b[0m\u001b[0;34m\u001b[0m\u001b[0;34m\u001b[0m\u001b[0m\n\u001b[0;32m---> 30\u001b[0;31m     \u001b[0mBellmatrix\u001b[0m\u001b[0;34m[\u001b[0m\u001b[0mint\u001b[0m\u001b[0;34m(\u001b[0m\u001b[0mmatrix_ell21t\u001b[0m\u001b[0;34m[\u001b[0m\u001b[0mi\u001b[0m\u001b[0;34m]\u001b[0m\u001b[0;34m)\u001b[0m\u001b[0;34m,\u001b[0m\u001b[0mint\u001b[0m\u001b[0;34m(\u001b[0m\u001b[0mmatrix_ell3t\u001b[0m\u001b[0;34m[\u001b[0m\u001b[0mi\u001b[0m\u001b[0;34m]\u001b[0m\u001b[0;34m)\u001b[0m\u001b[0;34m]\u001b[0m\u001b[0;34m=\u001b[0m\u001b[0mmatrix_Bellt\u001b[0m\u001b[0;34m[\u001b[0m\u001b[0mi\u001b[0m\u001b[0;34m]\u001b[0m\u001b[0;34m\u001b[0m\u001b[0m\n\u001b[0m\u001b[1;32m     31\u001b[0m     \u001b[0;31m#Bellmatrix[]\u001b[0m\u001b[0;34m\u001b[0m\u001b[0;34m\u001b[0m\u001b[0m\n\u001b[1;32m     32\u001b[0m \u001b[0;31m#print Bellmatrix\u001b[0m\u001b[0;34m\u001b[0m\u001b[0;34m\u001b[0m\u001b[0m\n",
      "\u001b[0;31mIndexError\u001b[0m: index 15 is out of bounds for axis 0 with size 8"
     ]
    }
   ],
   "source": [
    "#matrix l1\n",
    "Y =matrix_ell1t#matrix_ell1#set the x dimension form matrix shape \n",
    "#print Y \n",
    "#print (max(Y), min(Y))\n",
    "a = Y.max()\n",
    "b = np.min(Y)\n",
    "#print a,b\n",
    "Yarr = np.arange(int(b),int(a)+1)\n",
    "#print Yarr\n",
    "\n",
    "#matrix l2 - l3\n",
    "\n",
    "X =matrixeq#matrix_ell1#set the x dimension form matrix shape \n",
    "#print X\n",
    "#print max(X), min(X)\n",
    "a = X.max()\n",
    "b = np.min(X)\n",
    "#print a,b\n",
    "Xarr = np.arange(int(b),int(a)+1)\n",
    "#print Xarr\n",
    "\n",
    "sizex = Xarr.size\n",
    "#print sizex\n",
    "#print Xarr.size\n",
    "Bellmatrix = np.zeros((Xarr.size,Yarr.size))\n",
    "#print Bellmatrix\n",
    "\n",
    "for i in np.arange(matrix_Bellt.size):    \n",
    "    #print int(matrix_ell23[i]),int(matrix_ell1[i])\n",
    "    Bellmatrix[int(matrix_ell21t[i]),int(matrix_ell3t[i])]=matrix_Bellt[i]\n",
    "    #Bellmatrix[]\n",
    "#print Bellmatrix\n",
    "\n",
    "cp = plt.contourf(Xarr, Yarr, Bellmatrix.T,cmap=cm.inferno )\n",
    "#print Xarr.size, Bellmatrix[0,:].size\n",
    "#plt.colormap()\n",
    "plt.colorbar(cp)\n",
    "plt.title(\"Contour plot Bispectrum\")\n",
    "plt.xlabel('ell1=ell2')\n",
    "plt.ylabel('ell3')\n",
    "plt.set_zlim=(-6e-18,6e-18)\n",
    "#plt.figure(figsize=(21, 10))\n",
    "plt.show()"
   ]
  }
 ],
 "metadata": {
  "kernelspec": {
   "display_name": "Python 2",
   "language": "python",
   "name": "python2"
  },
  "language_info": {
   "codemirror_mode": {
    "name": "ipython",
    "version": 2
   },
   "file_extension": ".py",
   "mimetype": "text/x-python",
   "name": "python",
   "nbconvert_exporter": "python",
   "pygments_lexer": "ipython2",
   "version": "2.7.15"
  }
 },
 "nbformat": 4,
 "nbformat_minor": 2
}
